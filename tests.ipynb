{
 "cells": [
  {
   "cell_type": "code",
   "execution_count": 1,
   "metadata": {
    "collapsed": true
   },
   "outputs": [],
   "source": [
    "import sys\n",
    "sys.path.insert(0, './scripts')\n",
    "import list_files\n",
    "import draw_text\n",
    "import resize_images\n",
    "test_data_path = \"./data\""
   ]
  },
  {
   "cell_type": "code",
   "execution_count": 2,
   "metadata": {
    "collapsed": false
   },
   "outputs": [
    {
     "name": "stdout",
     "output_type": "stream",
     "text": [
      "Lenna.png\n",
      "Have listed 1 files.\n"
     ]
    }
   ],
   "source": [
    "list_file_count = list_files.list_files(test_data_path)\n",
    "print(\"Have listed %d files.\" % list_file_count)"
   ]
  },
  {
   "cell_type": "code",
   "execution_count": 3,
   "metadata": {
    "collapsed": false
   },
   "outputs": [
    {
     "name": "stdout",
     "output_type": "stream",
     "text": [
      "Have drawn 1 images.\n"
     ]
    }
   ],
   "source": [
    "draw_file_count = draw_text.draw_text(test_data_path, './draw_output')\n",
    "print(\"Have drawn %d images.\" % draw_file_count)"
   ]
  },
  {
   "cell_type": "code",
   "execution_count": 4,
   "metadata": {
    "collapsed": false
   },
   "outputs": [
    {
     "name": "stdout",
     "output_type": "stream",
     "text": [
      "Have resized 1 images.\n"
     ]
    }
   ],
   "source": [
    "resize_file_count = resize_images.resize_images(test_data_path, './resize_output')\n",
    "print(\"Have resized %d images.\" % resize_file_count)"
   ]
  }
 ],
 "metadata": {
  "kernelspec": {
   "display_name": "Python 3",
   "language": "python",
   "name": "python3"
  },
  "language_info": {
   "codemirror_mode": {
    "name": "ipython",
    "version": 3
   },
   "file_extension": ".py",
   "mimetype": "text/x-python",
   "name": "python",
   "nbconvert_exporter": "python",
   "pygments_lexer": "ipython3",
   "version": "3.6.0"
  }
 },
 "nbformat": 4,
 "nbformat_minor": 2
}
